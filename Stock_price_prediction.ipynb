{
  "nbformat": 4,
  "nbformat_minor": 0,
  "metadata": {
    "colab": {
      "name": "Stock_price_prediction.ipynb",
      "provenance": [],
      "collapsed_sections": []
    },
    "kernelspec": {
      "name": "python3",
      "display_name": "Python 3"
    },
    "language_info": {
      "name": "python"
    },
    "accelerator": "GPU"
  },
  "cells": [
    {
      "cell_type": "markdown",
      "metadata": {
        "id": "EMFDfYVXYPpb"
      },
      "source": [
        "# Stock Price Prediction for SENSEX for year 2020 using LSTM Model\n",
        "#### Dataset contains historical data for sensex from 1 Jan 2010 to 31 Dec 2020"
      ]
    },
    {
      "cell_type": "code",
      "metadata": {
        "id": "5KMMU_YxmrrG"
      },
      "source": [
        "#pip install investpy"
      ],
      "execution_count": 1,
      "outputs": []
    },
    {
      "cell_type": "code",
      "metadata": {
        "id": "IUjZ59oufp_c"
      },
      "source": [
        "#importing required libraries\n",
        "import pandas as pd\n",
        "import numpy as np\n",
        "import math\n",
        "import matplotlib.pyplot as plt\n",
        "import seaborn as sns\n",
        "import tensorflow as tf\n",
        "import investpy\n",
        "from sklearn import preprocessing\n",
        "from sklearn.metrics import mean_squared_error\n",
        "### Create the Stacked LSTM model\n",
        "from tensorflow.keras.models import Sequential\n",
        "from tensorflow.keras.layers import Dense\n",
        "from tensorflow.keras.layers import LSTM"
      ],
      "execution_count": 2,
      "outputs": []
    },
    {
      "cell_type": "markdown",
      "metadata": {
        "id": "QVn4WHAYYrXe"
      },
      "source": [
        "Reading csv file into a dataframe"
      ]
    },
    {
      "cell_type": "code",
      "metadata": {
        "id": "TUIjLHw4swo4"
      },
      "source": [
        "#below command can be used to get list of countries\n",
        "#investpy.get_stock_countries()"
      ],
      "execution_count": 3,
      "outputs": []
    },
    {
      "cell_type": "code",
      "metadata": {
        "id": "RbmB1ophsvCV"
      },
      "source": [
        "#below command can be used to get list of stocks available\n",
        "#stocks_list = investpy.get_stocks_list(country='India')"
      ],
      "execution_count": 4,
      "outputs": []
    },
    {
      "cell_type": "code",
      "metadata": {
        "id": "CCd3vVVhmZW2"
      },
      "source": [
        "#extract data for SBI from 1 Jan 2010 to 31 Dec 2020\n",
        "df = investpy.get_stock_historical_data(stock='SBI',\n",
        "                                        country='india',\n",
        "                                        from_date='01/01/2010',\n",
        "                                        to_date='31/12/2020')"
      ],
      "execution_count": 5,
      "outputs": []
    },
    {
      "cell_type": "code",
      "metadata": {
        "colab": {
          "base_uri": "https://localhost:8080/",
          "height": 235
        },
        "id": "GKUflB3bgEs0",
        "outputId": "f0478e3c-3d55-421c-d262-5c3b5c633740"
      },
      "source": [
        "df.head()"
      ],
      "execution_count": 6,
      "outputs": [
        {
          "output_type": "execute_result",
          "data": {
            "text/html": [
              "<div>\n",
              "<style scoped>\n",
              "    .dataframe tbody tr th:only-of-type {\n",
              "        vertical-align: middle;\n",
              "    }\n",
              "\n",
              "    .dataframe tbody tr th {\n",
              "        vertical-align: top;\n",
              "    }\n",
              "\n",
              "    .dataframe thead th {\n",
              "        text-align: right;\n",
              "    }\n",
              "</style>\n",
              "<table border=\"1\" class=\"dataframe\">\n",
              "  <thead>\n",
              "    <tr style=\"text-align: right;\">\n",
              "      <th></th>\n",
              "      <th>Open</th>\n",
              "      <th>High</th>\n",
              "      <th>Low</th>\n",
              "      <th>Close</th>\n",
              "      <th>Volume</th>\n",
              "      <th>Currency</th>\n",
              "    </tr>\n",
              "    <tr>\n",
              "      <th>Date</th>\n",
              "      <th></th>\n",
              "      <th></th>\n",
              "      <th></th>\n",
              "      <th></th>\n",
              "      <th></th>\n",
              "      <th></th>\n",
              "    </tr>\n",
              "  </thead>\n",
              "  <tbody>\n",
              "    <tr>\n",
              "      <th>2010-01-04</th>\n",
              "      <td>227.5</td>\n",
              "      <td>230.00</td>\n",
              "      <td>227.50</td>\n",
              "      <td>229.12</td>\n",
              "      <td>11031470</td>\n",
              "      <td>INR</td>\n",
              "    </tr>\n",
              "    <tr>\n",
              "      <th>2010-01-05</th>\n",
              "      <td>230.8</td>\n",
              "      <td>231.00</td>\n",
              "      <td>228.01</td>\n",
              "      <td>229.21</td>\n",
              "      <td>11613740</td>\n",
              "      <td>INR</td>\n",
              "    </tr>\n",
              "    <tr>\n",
              "      <th>2010-01-06</th>\n",
              "      <td>229.7</td>\n",
              "      <td>231.50</td>\n",
              "      <td>228.50</td>\n",
              "      <td>230.58</td>\n",
              "      <td>14527930</td>\n",
              "      <td>INR</td>\n",
              "    </tr>\n",
              "    <tr>\n",
              "      <th>2010-01-07</th>\n",
              "      <td>230.6</td>\n",
              "      <td>231.00</td>\n",
              "      <td>228.11</td>\n",
              "      <td>229.29</td>\n",
              "      <td>8576510</td>\n",
              "      <td>INR</td>\n",
              "    </tr>\n",
              "    <tr>\n",
              "      <th>2010-01-08</th>\n",
              "      <td>229.4</td>\n",
              "      <td>230.39</td>\n",
              "      <td>228.01</td>\n",
              "      <td>228.60</td>\n",
              "      <td>10453820</td>\n",
              "      <td>INR</td>\n",
              "    </tr>\n",
              "  </tbody>\n",
              "</table>\n",
              "</div>"
            ],
            "text/plain": [
              "             Open    High     Low   Close    Volume Currency\n",
              "Date                                                        \n",
              "2010-01-04  227.5  230.00  227.50  229.12  11031470      INR\n",
              "2010-01-05  230.8  231.00  228.01  229.21  11613740      INR\n",
              "2010-01-06  229.7  231.50  228.50  230.58  14527930      INR\n",
              "2010-01-07  230.6  231.00  228.11  229.29   8576510      INR\n",
              "2010-01-08  229.4  230.39  228.01  228.60  10453820      INR"
            ]
          },
          "metadata": {
            "tags": []
          },
          "execution_count": 6
        }
      ]
    },
    {
      "cell_type": "markdown",
      "metadata": {
        "id": "u8mgkL55YxIY"
      },
      "source": [
        "Analysing Dataset"
      ]
    },
    {
      "cell_type": "code",
      "metadata": {
        "colab": {
          "base_uri": "https://localhost:8080/"
        },
        "id": "JB0Z0k_Vg-5n",
        "outputId": "a16611b6-ced5-4167-aa83-7827cb9168a3"
      },
      "source": [
        "df.shape"
      ],
      "execution_count": 7,
      "outputs": [
        {
          "output_type": "execute_result",
          "data": {
            "text/plain": [
              "(2730, 6)"
            ]
          },
          "metadata": {
            "tags": []
          },
          "execution_count": 7
        }
      ]
    },
    {
      "cell_type": "code",
      "metadata": {
        "colab": {
          "base_uri": "https://localhost:8080/"
        },
        "id": "XUs3RqSYg39E",
        "outputId": "3721cfca-b81e-4281-86eb-40786e002273"
      },
      "source": [
        "df.info()"
      ],
      "execution_count": 8,
      "outputs": [
        {
          "output_type": "stream",
          "text": [
            "<class 'pandas.core.frame.DataFrame'>\n",
            "DatetimeIndex: 2730 entries, 2010-01-04 to 2020-12-31\n",
            "Data columns (total 6 columns):\n",
            " #   Column    Non-Null Count  Dtype  \n",
            "---  ------    --------------  -----  \n",
            " 0   Open      2730 non-null   float64\n",
            " 1   High      2730 non-null   float64\n",
            " 2   Low       2730 non-null   float64\n",
            " 3   Close     2730 non-null   float64\n",
            " 4   Volume    2730 non-null   int64  \n",
            " 5   Currency  2730 non-null   object \n",
            "dtypes: float64(4), int64(1), object(1)\n",
            "memory usage: 149.3+ KB\n"
          ],
          "name": "stdout"
        }
      ]
    },
    {
      "cell_type": "code",
      "metadata": {
        "colab": {
          "base_uri": "https://localhost:8080/"
        },
        "id": "o76Uw1yCsbm4",
        "outputId": "7f955c4b-1c5e-492a-9f9b-cc4f7d531a81"
      },
      "source": [
        "df.columns"
      ],
      "execution_count": 9,
      "outputs": [
        {
          "output_type": "execute_result",
          "data": {
            "text/plain": [
              "Index(['Open', 'High', 'Low', 'Close', 'Volume', 'Currency'], dtype='object')"
            ]
          },
          "metadata": {
            "tags": []
          },
          "execution_count": 9
        }
      ]
    },
    {
      "cell_type": "code",
      "metadata": {
        "colab": {
          "base_uri": "https://localhost:8080/",
          "height": 461
        },
        "id": "_7i25LwY-trT",
        "outputId": "81b6f127-7a8e-4007-e260-6be378050cb4"
      },
      "source": [
        "plt.figure(figsize=(12, 7))\n",
        "plt.title('Line chart for the dataset')\n",
        "plt.plot(df['Close'])"
      ],
      "execution_count": 10,
      "outputs": [
        {
          "output_type": "execute_result",
          "data": {
            "text/plain": [
              "[<matplotlib.lines.Line2D at 0x7f1661336890>]"
            ]
          },
          "metadata": {
            "tags": []
          },
          "execution_count": 10
        },
        {
          "output_type": "display_data",
          "data": {
            "image/png": "[encoded data removed]",
            "text/plain": [
              "<Figure size 864x504 with 1 Axes>"
            ]
          },
          "metadata": {
            "tags": [],
            "needs_background": "light"
          }
        }
      ]
    },
    {
      "cell_type": "markdown",
      "metadata": {
        "id": "dNWo6CkRY5v9"
      },
      "source": [
        "Splitting dataset into training and testing datset and filtering columns"
      ]
    },
    {
      "cell_type": "code",
      "metadata": {
        "id": "mv3YxTcQr07R"
      },
      "source": [
        "train = df[df.index<='2019-12-31']"
      ],
      "execution_count": 11,
      "outputs": []
    },
    {
      "cell_type": "code",
      "metadata": {
        "colab": {
          "base_uri": "https://localhost:8080/"
        },
        "id": "lGOZrxbTsxk3",
        "outputId": "f63b772a-7044-405d-8bd3-485ea1ab756e"
      },
      "source": [
        "train.drop(['Open', 'High', 'Low', 'Volume', 'Currency'], axis = 1, inplace=True)"
      ],
      "execution_count": 12,
      "outputs": [
        {
          "output_type": "stream",
          "text": [
            "/usr/local/lib/python3.7/dist-packages/pandas/core/frame.py:4174: SettingWithCopyWarning: \n",
            "A value is trying to be set on a copy of a slice from a DataFrame\n",
            "\n",
            "See the caveats in the documentation: https://pandas.pydata.org/pandas-docs/stable/user_guide/indexing.html#returning-a-view-versus-a-copy\n",
            "  errors=errors,\n"
          ],
          "name": "stderr"
        }
      ]
    },
    {
      "cell_type": "code",
      "metadata": {
        "colab": {
          "base_uri": "https://localhost:8080/",
          "height": 235
        },
        "id": "ZXXKMexbsOso",
        "outputId": "10cd89c6-d6bb-4f23-bb55-c4eb6f2ba97e"
      },
      "source": [
        "train.head()"
      ],
      "execution_count": 13,
      "outputs": [
        {
          "output_type": "execute_result",
          "data": {
            "text/html": [
              "<div>\n",
              "<style scoped>\n",
              "    .dataframe tbody tr th:only-of-type {\n",
              "        vertical-align: middle;\n",
              "    }\n",
              "\n",
              "    .dataframe tbody tr th {\n",
              "        vertical-align: top;\n",
              "    }\n",
              "\n",
              "    .dataframe thead th {\n",
              "        text-align: right;\n",
              "    }\n",
              "</style>\n",
              "<table border=\"1\" class=\"dataframe\">\n",
              "  <thead>\n",
              "    <tr style=\"text-align: right;\">\n",
              "      <th></th>\n",
              "      <th>Close</th>\n",
              "    </tr>\n",
              "    <tr>\n",
              "      <th>Date</th>\n",
              "      <th></th>\n",
              "    </tr>\n",
              "  </thead>\n",
              "  <tbody>\n",
              "    <tr>\n",
              "      <th>2010-01-04</th>\n",
              "      <td>229.12</td>\n",
              "    </tr>\n",
              "    <tr>\n",
              "      <th>2010-01-05</th>\n",
              "      <td>229.21</td>\n",
              "    </tr>\n",
              "    <tr>\n",
              "      <th>2010-01-06</th>\n",
              "      <td>230.58</td>\n",
              "    </tr>\n",
              "    <tr>\n",
              "      <th>2010-01-07</th>\n",
              "      <td>229.29</td>\n",
              "    </tr>\n",
              "    <tr>\n",
              "      <th>2010-01-08</th>\n",
              "      <td>228.60</td>\n",
              "    </tr>\n",
              "  </tbody>\n",
              "</table>\n",
              "</div>"
            ],
            "text/plain": [
              "             Close\n",
              "Date              \n",
              "2010-01-04  229.12\n",
              "2010-01-05  229.21\n",
              "2010-01-06  230.58\n",
              "2010-01-07  229.29\n",
              "2010-01-08  228.60"
            ]
          },
          "metadata": {
            "tags": []
          },
          "execution_count": 13
        }
      ]
    },
    {
      "cell_type": "code",
      "metadata": {
        "colab": {
          "base_uri": "https://localhost:8080/",
          "height": 461
        },
        "id": "sXNIMlbXtUTX",
        "outputId": "5c712904-84a8-4f53-9ea0-167bdaee4312"
      },
      "source": [
        "plt.figure(figsize=(12, 7))\n",
        "plt.title('Line chart for the training dataset')\n",
        "plt.plot(train)"
      ],
      "execution_count": 14,
      "outputs": [
        {
          "output_type": "execute_result",
          "data": {
            "text/plain": [
              "[<matplotlib.lines.Line2D at 0x7f16b70a9f50>]"
            ]
          },
          "metadata": {
            "tags": []
          },
          "execution_count": 14
        },
        {
          "output_type": "display_data",
          "data": {
            "image/png": "[encoded data removed]",
            "text/plain": [
              "<Figure size 864x504 with 1 Axes>"
            ]
          },
          "metadata": {
            "tags": [],
            "needs_background": "light"
          }
        }
      ]
    },
    {
      "cell_type": "code",
      "metadata": {
        "id": "GDMRV7i_r9Ck"
      },
      "source": [
        "test = df[df.index>'2019-12-31']"
      ],
      "execution_count": 15,
      "outputs": []
    },
    {
      "cell_type": "code",
      "metadata": {
        "colab": {
          "base_uri": "https://localhost:8080/"
        },
        "id": "FHOi2iPlsWih",
        "outputId": "bf047bb3-4332-47b8-ee85-d09bfc55d1f6"
      },
      "source": [
        "test.drop(['Open', 'High', 'Low', 'Volume', 'Currency'], axis = 1, inplace=True)"
      ],
      "execution_count": 16,
      "outputs": [
        {
          "output_type": "stream",
          "text": [
            "/usr/local/lib/python3.7/dist-packages/pandas/core/frame.py:4174: SettingWithCopyWarning: \n",
            "A value is trying to be set on a copy of a slice from a DataFrame\n",
            "\n",
            "See the caveats in the documentation: https://pandas.pydata.org/pandas-docs/stable/user_guide/indexing.html#returning-a-view-versus-a-copy\n",
            "  errors=errors,\n"
          ],
          "name": "stderr"
        }
      ]
    },
    {
      "cell_type": "code",
      "metadata": {
        "colab": {
          "base_uri": "https://localhost:8080/",
          "height": 235
        },
        "id": "NmIUn2WZjlZp",
        "outputId": "09896096-65e0-4e4a-b77b-4c8b13314419"
      },
      "source": [
        "test.head()"
      ],
      "execution_count": 17,
      "outputs": [
        {
          "output_type": "execute_result",
          "data": {
            "text/html": [
              "<div>\n",
              "<style scoped>\n",
              "    .dataframe tbody tr th:only-of-type {\n",
              "        vertical-align: middle;\n",
              "    }\n",
              "\n",
              "    .dataframe tbody tr th {\n",
              "        vertical-align: top;\n",
              "    }\n",
              "\n",
              "    .dataframe thead th {\n",
              "        text-align: right;\n",
              "    }\n",
              "</style>\n",
              "<table border=\"1\" class=\"dataframe\">\n",
              "  <thead>\n",
              "    <tr style=\"text-align: right;\">\n",
              "      <th></th>\n",
              "      <th>Close</th>\n",
              "    </tr>\n",
              "    <tr>\n",
              "      <th>Date</th>\n",
              "      <th></th>\n",
              "    </tr>\n",
              "  </thead>\n",
              "  <tbody>\n",
              "    <tr>\n",
              "      <th>2020-01-01</th>\n",
              "      <td>334.45</td>\n",
              "    </tr>\n",
              "    <tr>\n",
              "      <th>2020-01-02</th>\n",
              "      <td>339.30</td>\n",
              "    </tr>\n",
              "    <tr>\n",
              "      <th>2020-01-03</th>\n",
              "      <td>333.70</td>\n",
              "    </tr>\n",
              "    <tr>\n",
              "      <th>2020-01-06</th>\n",
              "      <td>319.00</td>\n",
              "    </tr>\n",
              "    <tr>\n",
              "      <th>2020-01-07</th>\n",
              "      <td>318.40</td>\n",
              "    </tr>\n",
              "  </tbody>\n",
              "</table>\n",
              "</div>"
            ],
            "text/plain": [
              "             Close\n",
              "Date              \n",
              "2020-01-01  334.45\n",
              "2020-01-02  339.30\n",
              "2020-01-03  333.70\n",
              "2020-01-06  319.00\n",
              "2020-01-07  318.40"
            ]
          },
          "metadata": {
            "tags": []
          },
          "execution_count": 17
        }
      ]
    },
    {
      "cell_type": "code",
      "metadata": {
        "colab": {
          "base_uri": "https://localhost:8080/",
          "height": 461
        },
        "id": "uB8SxXB-tgRI",
        "outputId": "f7459d64-f7e8-4939-9238-4dce2a33a2d7"
      },
      "source": [
        "plt.figure(figsize=(12, 7))\n",
        "plt.title('Line chart for the testing dataset')\n",
        "plt.plot(test)"
      ],
      "execution_count": 18,
      "outputs": [
        {
          "output_type": "execute_result",
          "data": {
            "text/plain": [
              "[<matplotlib.lines.Line2D at 0x7f1660ddbf10>]"
            ]
          },
          "metadata": {
            "tags": []
          },
          "execution_count": 18
        },
        {
          "output_type": "display_data",
          "data": {
            "image/png": "[encoded data removed]",
            "text/plain": [
              "<Figure size 864x504 with 1 Axes>"
            ]
          },
          "metadata": {
            "tags": [],
            "needs_background": "light"
          }
        }
      ]
    },
    {
      "cell_type": "markdown",
      "metadata": {
        "id": "RmpBC67qZGrV"
      },
      "source": [
        "Scaling Dataset as LSTM is highly affected by scale of data"
      ]
    },
    {
      "cell_type": "code",
      "metadata": {
        "colab": {
          "base_uri": "https://localhost:8080/",
          "height": 235
        },
        "id": "EIiNxz71jldn",
        "outputId": "ffa5d446-5184-481e-efbd-5bdaa7804b8d"
      },
      "source": [
        "scaler_train = preprocessing.MinMaxScaler()\n",
        "train_df = scaler_train.fit_transform(train)\n",
        "train_df = pd.DataFrame(train_df, columns=['Close'], index=train.index)\n",
        "train_df.head()"
      ],
      "execution_count": 19,
      "outputs": [
        {
          "output_type": "execute_result",
          "data": {
            "text/html": [
              "<div>\n",
              "<style scoped>\n",
              "    .dataframe tbody tr th:only-of-type {\n",
              "        vertical-align: middle;\n",
              "    }\n",
              "\n",
              "    .dataframe tbody tr th {\n",
              "        vertical-align: top;\n",
              "    }\n",
              "\n",
              "    .dataframe thead th {\n",
              "        text-align: right;\n",
              "    }\n",
              "</style>\n",
              "<table border=\"1\" class=\"dataframe\">\n",
              "  <thead>\n",
              "    <tr style=\"text-align: right;\">\n",
              "      <th></th>\n",
              "      <th>Close</th>\n",
              "    </tr>\n",
              "    <tr>\n",
              "      <th>Date</th>\n",
              "      <th></th>\n",
              "    </tr>\n",
              "  </thead>\n",
              "  <tbody>\n",
              "    <tr>\n",
              "      <th>2010-01-04</th>\n",
              "      <td>0.363313</td>\n",
              "    </tr>\n",
              "    <tr>\n",
              "      <th>2010-01-05</th>\n",
              "      <td>0.363713</td>\n",
              "    </tr>\n",
              "    <tr>\n",
              "      <th>2010-01-06</th>\n",
              "      <td>0.369801</td>\n",
              "    </tr>\n",
              "    <tr>\n",
              "      <th>2010-01-07</th>\n",
              "      <td>0.364069</td>\n",
              "    </tr>\n",
              "    <tr>\n",
              "      <th>2010-01-08</th>\n",
              "      <td>0.361002</td>\n",
              "    </tr>\n",
              "  </tbody>\n",
              "</table>\n",
              "</div>"
            ],
            "text/plain": [
              "               Close\n",
              "Date                \n",
              "2010-01-04  0.363313\n",
              "2010-01-05  0.363713\n",
              "2010-01-06  0.369801\n",
              "2010-01-07  0.364069\n",
              "2010-01-08  0.361002"
            ]
          },
          "metadata": {
            "tags": []
          },
          "execution_count": 19
        }
      ]
    },
    {
      "cell_type": "code",
      "metadata": {
        "colab": {
          "base_uri": "https://localhost:8080/",
          "height": 235
        },
        "id": "-Jb5K2iqtKcc",
        "outputId": "1a727dda-9a8e-4360-f6e1-f3721816ff65"
      },
      "source": [
        "scaler_test = preprocessing.MinMaxScaler()\n",
        "test_df = scaler_test.fit_transform(test)\n",
        "test_df = pd.DataFrame(test_df, columns=['Close'], index=test.index)\n",
        "test_df.head()"
      ],
      "execution_count": 20,
      "outputs": [
        {
          "output_type": "execute_result",
          "data": {
            "text/html": [
              "<div>\n",
              "<style scoped>\n",
              "    .dataframe tbody tr th:only-of-type {\n",
              "        vertical-align: middle;\n",
              "    }\n",
              "\n",
              "    .dataframe tbody tr th {\n",
              "        vertical-align: top;\n",
              "    }\n",
              "\n",
              "    .dataframe thead th {\n",
              "        text-align: right;\n",
              "    }\n",
              "</style>\n",
              "<table border=\"1\" class=\"dataframe\">\n",
              "  <thead>\n",
              "    <tr style=\"text-align: right;\">\n",
              "      <th></th>\n",
              "      <th>Close</th>\n",
              "    </tr>\n",
              "    <tr>\n",
              "      <th>Date</th>\n",
              "      <th></th>\n",
              "    </tr>\n",
              "  </thead>\n",
              "  <tbody>\n",
              "    <tr>\n",
              "      <th>2020-01-01</th>\n",
              "      <td>0.974264</td>\n",
              "    </tr>\n",
              "    <tr>\n",
              "      <th>2020-01-02</th>\n",
              "      <td>1.000000</td>\n",
              "    </tr>\n",
              "    <tr>\n",
              "      <th>2020-01-03</th>\n",
              "      <td>0.970284</td>\n",
              "    </tr>\n",
              "    <tr>\n",
              "      <th>2020-01-06</th>\n",
              "      <td>0.892279</td>\n",
              "    </tr>\n",
              "    <tr>\n",
              "      <th>2020-01-07</th>\n",
              "      <td>0.889095</td>\n",
              "    </tr>\n",
              "  </tbody>\n",
              "</table>\n",
              "</div>"
            ],
            "text/plain": [
              "               Close\n",
              "Date                \n",
              "2020-01-01  0.974264\n",
              "2020-01-02  1.000000\n",
              "2020-01-03  0.970284\n",
              "2020-01-06  0.892279\n",
              "2020-01-07  0.889095"
            ]
          },
          "metadata": {
            "tags": []
          },
          "execution_count": 20
        }
      ]
    },
    {
      "cell_type": "markdown",
      "metadata": {
        "id": "_Fbl4x-SZY1H"
      },
      "source": [
        "Creating Dataframes for building LSTM model with time_step = 30 days (i.e., it will use past 30 days data to predict output)"
      ]
    },
    {
      "cell_type": "code",
      "metadata": {
        "id": "mymH7srgtinx"
      },
      "source": [
        "#function to create dataset\n",
        "def create_dataset(dataset, time_step=30):\n",
        "  dataX = pd.DataFrame()\n",
        "  dataY = pd.DataFrame()\n",
        "  X = []\n",
        "  Y = []\n",
        "  for i in range(len(dataset)-time_step-1):\n",
        "    a = dataset.iloc[i:(i+time_step)].to_numpy().reshape(-1)\n",
        "    X.append(a)\n",
        "    Y.append(dataset.iloc[i + time_step].to_numpy().reshape(-1))\n",
        "  return dataX.append(X), dataY.append(Y)"
      ],
      "execution_count": 21,
      "outputs": []
    },
    {
      "cell_type": "code",
      "metadata": {
        "id": "wQBk_1q3t8Cp"
      },
      "source": [
        "time_step = 30\n",
        "x_train, y_train = create_dataset(train_df, time_step)\n",
        "x_test, y_test = create_dataset(test_df, time_step)"
      ],
      "execution_count": 22,
      "outputs": []
    },
    {
      "cell_type": "code",
      "metadata": {
        "id": "u8R8N6qmZ6jE",
        "colab": {
          "base_uri": "https://localhost:8080/"
        },
        "outputId": "fe7ead92-81a2-4337-9481-aa6275974925"
      },
      "source": [
        "print(\"Shape of x_train\", x_train.shape)\n",
        "print(\"Shape of y_train\", y_train.shape)\n",
        "print(\"Shape of x_test\", x_test.shape)\n",
        "print(\"Shape of y_test\", y_test.shape)"
      ],
      "execution_count": 23,
      "outputs": [
        {
          "output_type": "stream",
          "text": [
            "Shape of x_train (2447, 30)\n",
            "Shape of y_train (2447, 1)\n",
            "Shape of x_test (221, 30)\n",
            "Shape of y_test (221, 1)\n"
          ],
          "name": "stdout"
        }
      ]
    },
    {
      "cell_type": "code",
      "metadata": {
        "colab": {
          "base_uri": "https://localhost:8080/",
          "height": 439
        },
        "id": "3UvvZicAuIhk",
        "outputId": "8d60fdc3-2a2c-4c88-cd37-ae51fcfd5389"
      },
      "source": [
        "x_train"
      ],
      "execution_count": 24,
      "outputs": [
        {
          "output_type": "execute_result",
          "data": {
            "text/html": [
              "<div>\n",
              "<style scoped>\n",
              "    .dataframe tbody tr th:only-of-type {\n",
              "        vertical-align: middle;\n",
              "    }\n",
              "\n",
              "    .dataframe tbody tr th {\n",
              "        vertical-align: top;\n",
              "    }\n",
              "\n",
              "    .dataframe thead th {\n",
              "        text-align: right;\n",
              "    }\n",
              "</style>\n",
              "<table border=\"1\" class=\"dataframe\">\n",
              "  <thead>\n",
              "    <tr style=\"text-align: right;\">\n",
              "      <th></th>\n",
              "      <th>0</th>\n",
              "      <th>1</th>\n",
              "      <th>2</th>\n",
              "      <th>3</th>\n",
              "      <th>4</th>\n",
              "      <th>5</th>\n",
              "      <th>6</th>\n",
              "      <th>7</th>\n",
              "      <th>8</th>\n",
              "      <th>9</th>\n",
              "      <th>10</th>\n",
              "      <th>11</th>\n",
              "      <th>12</th>\n",
              "      <th>13</th>\n",
              "      <th>14</th>\n",
              "      <th>15</th>\n",
              "      <th>16</th>\n",
              "      <th>17</th>\n",
              "      <th>18</th>\n",
              "      <th>19</th>\n",
              "      <th>20</th>\n",
              "      <th>21</th>\n",
              "      <th>22</th>\n",
              "      <th>23</th>\n",
              "      <th>24</th>\n",
              "      <th>25</th>\n",
              "      <th>26</th>\n",
              "      <th>27</th>\n",
              "      <th>28</th>\n",
              "      <th>29</th>\n",
              "    </tr>\n",
              "  </thead>\n",
              "  <tbody>\n",
              "    <tr>\n",
              "      <th>0</th>\n",
              "      <td>0.363313</td>\n",
              "      <td>0.363713</td>\n",
              "      <td>0.369801</td>\n",
              "      <td>0.364069</td>\n",
              "      <td>0.361002</td>\n",
              "      <td>0.352648</td>\n",
              "      <td>0.324209</td>\n",
              "      <td>0.312078</td>\n",
              "      <td>0.303857</td>\n",
              "      <td>0.297636</td>\n",
              "      <td>0.303413</td>\n",
              "      <td>0.310834</td>\n",
              "      <td>0.304968</td>\n",
              "      <td>0.289060</td>\n",
              "      <td>0.272752</td>\n",
              "      <td>0.274618</td>\n",
              "      <td>0.228404</td>\n",
              "      <td>0.235336</td>\n",
              "      <td>0.259065</td>\n",
              "      <td>0.243335</td>\n",
              "      <td>0.224316</td>\n",
              "      <td>0.233381</td>\n",
              "      <td>0.210763</td>\n",
              "      <td>0.188500</td>\n",
              "      <td>0.195032</td>\n",
              "      <td>0.205741</td>\n",
              "      <td>0.211829</td>\n",
              "      <td>0.194765</td>\n",
              "      <td>0.197298</td>\n",
              "      <td>0.187256</td>\n",
              "    </tr>\n",
              "    <tr>\n",
              "      <th>1</th>\n",
              "      <td>0.363713</td>\n",
              "      <td>0.369801</td>\n",
              "      <td>0.364069</td>\n",
              "      <td>0.361002</td>\n",
              "      <td>0.352648</td>\n",
              "      <td>0.324209</td>\n",
              "      <td>0.312078</td>\n",
              "      <td>0.303857</td>\n",
              "      <td>0.297636</td>\n",
              "      <td>0.303413</td>\n",
              "      <td>0.310834</td>\n",
              "      <td>0.304968</td>\n",
              "      <td>0.289060</td>\n",
              "      <td>0.272752</td>\n",
              "      <td>0.274618</td>\n",
              "      <td>0.228404</td>\n",
              "      <td>0.235336</td>\n",
              "      <td>0.259065</td>\n",
              "      <td>0.243335</td>\n",
              "      <td>0.224316</td>\n",
              "      <td>0.233381</td>\n",
              "      <td>0.210763</td>\n",
              "      <td>0.188500</td>\n",
              "      <td>0.195032</td>\n",
              "      <td>0.205741</td>\n",
              "      <td>0.211829</td>\n",
              "      <td>0.194765</td>\n",
              "      <td>0.197298</td>\n",
              "      <td>0.187256</td>\n",
              "      <td>0.198631</td>\n",
              "    </tr>\n",
              "    <tr>\n",
              "      <th>2</th>\n",
              "      <td>0.369801</td>\n",
              "      <td>0.364069</td>\n",
              "      <td>0.361002</td>\n",
              "      <td>0.352648</td>\n",
              "      <td>0.324209</td>\n",
              "      <td>0.312078</td>\n",
              "      <td>0.303857</td>\n",
              "      <td>0.297636</td>\n",
              "      <td>0.303413</td>\n",
              "      <td>0.310834</td>\n",
              "      <td>0.304968</td>\n",
              "      <td>0.289060</td>\n",
              "      <td>0.272752</td>\n",
              "      <td>0.274618</td>\n",
              "      <td>0.228404</td>\n",
              "      <td>0.235336</td>\n",
              "      <td>0.259065</td>\n",
              "      <td>0.243335</td>\n",
              "      <td>0.224316</td>\n",
              "      <td>0.233381</td>\n",
              "      <td>0.210763</td>\n",
              "      <td>0.188500</td>\n",
              "      <td>0.195032</td>\n",
              "      <td>0.205741</td>\n",
              "      <td>0.211829</td>\n",
              "      <td>0.194765</td>\n",
              "      <td>0.197298</td>\n",
              "      <td>0.187256</td>\n",
              "      <td>0.198631</td>\n",
              "      <td>0.214762</td>\n",
              "    </tr>\n",
              "    <tr>\n",
              "      <th>3</th>\n",
              "      <td>0.364069</td>\n",
              "      <td>0.361002</td>\n",
              "      <td>0.352648</td>\n",
              "      <td>0.324209</td>\n",
              "      <td>0.312078</td>\n",
              "      <td>0.303857</td>\n",
              "      <td>0.297636</td>\n",
              "      <td>0.303413</td>\n",
              "      <td>0.310834</td>\n",
              "      <td>0.304968</td>\n",
              "      <td>0.289060</td>\n",
              "      <td>0.272752</td>\n",
              "      <td>0.274618</td>\n",
              "      <td>0.228404</td>\n",
              "      <td>0.235336</td>\n",
              "      <td>0.259065</td>\n",
              "      <td>0.243335</td>\n",
              "      <td>0.224316</td>\n",
              "      <td>0.233381</td>\n",
              "      <td>0.210763</td>\n",
              "      <td>0.188500</td>\n",
              "      <td>0.195032</td>\n",
              "      <td>0.205741</td>\n",
              "      <td>0.211829</td>\n",
              "      <td>0.194765</td>\n",
              "      <td>0.197298</td>\n",
              "      <td>0.187256</td>\n",
              "      <td>0.198631</td>\n",
              "      <td>0.214762</td>\n",
              "      <td>0.208319</td>\n",
              "    </tr>\n",
              "    <tr>\n",
              "      <th>4</th>\n",
              "      <td>0.361002</td>\n",
              "      <td>0.352648</td>\n",
              "      <td>0.324209</td>\n",
              "      <td>0.312078</td>\n",
              "      <td>0.303857</td>\n",
              "      <td>0.297636</td>\n",
              "      <td>0.303413</td>\n",
              "      <td>0.310834</td>\n",
              "      <td>0.304968</td>\n",
              "      <td>0.289060</td>\n",
              "      <td>0.272752</td>\n",
              "      <td>0.274618</td>\n",
              "      <td>0.228404</td>\n",
              "      <td>0.235336</td>\n",
              "      <td>0.259065</td>\n",
              "      <td>0.243335</td>\n",
              "      <td>0.224316</td>\n",
              "      <td>0.233381</td>\n",
              "      <td>0.210763</td>\n",
              "      <td>0.188500</td>\n",
              "      <td>0.195032</td>\n",
              "      <td>0.205741</td>\n",
              "      <td>0.211829</td>\n",
              "      <td>0.194765</td>\n",
              "      <td>0.197298</td>\n",
              "      <td>0.187256</td>\n",
              "      <td>0.198631</td>\n",
              "      <td>0.214762</td>\n",
              "      <td>0.208319</td>\n",
              "      <td>0.191833</td>\n",
              "    </tr>\n",
              "    <tr>\n",
              "      <th>...</th>\n",
              "      <td>...</td>\n",
              "      <td>...</td>\n",
              "      <td>...</td>\n",
              "      <td>...</td>\n",
              "      <td>...</td>\n",
              "      <td>...</td>\n",
              "      <td>...</td>\n",
              "      <td>...</td>\n",
              "      <td>...</td>\n",
              "      <td>...</td>\n",
              "      <td>...</td>\n",
              "      <td>...</td>\n",
              "      <td>...</td>\n",
              "      <td>...</td>\n",
              "      <td>...</td>\n",
              "      <td>...</td>\n",
              "      <td>...</td>\n",
              "      <td>...</td>\n",
              "      <td>...</td>\n",
              "      <td>...</td>\n",
              "      <td>...</td>\n",
              "      <td>...</td>\n",
              "      <td>...</td>\n",
              "      <td>...</td>\n",
              "      <td>...</td>\n",
              "      <td>...</td>\n",
              "      <td>...</td>\n",
              "      <td>...</td>\n",
              "      <td>...</td>\n",
              "      <td>...</td>\n",
              "    </tr>\n",
              "    <tr>\n",
              "      <th>2442</th>\n",
              "      <td>0.749378</td>\n",
              "      <td>0.759376</td>\n",
              "      <td>0.708496</td>\n",
              "      <td>0.704941</td>\n",
              "      <td>0.775595</td>\n",
              "      <td>0.789815</td>\n",
              "      <td>0.813367</td>\n",
              "      <td>0.806257</td>\n",
              "      <td>0.817588</td>\n",
              "      <td>0.808478</td>\n",
              "      <td>0.838695</td>\n",
              "      <td>0.836029</td>\n",
              "      <td>0.871801</td>\n",
              "      <td>0.897352</td>\n",
              "      <td>0.864246</td>\n",
              "      <td>0.849360</td>\n",
              "      <td>0.839362</td>\n",
              "      <td>0.864246</td>\n",
              "      <td>0.839140</td>\n",
              "      <td>0.767153</td>\n",
              "      <td>0.752488</td>\n",
              "      <td>0.737824</td>\n",
              "      <td>0.735158</td>\n",
              "      <td>0.775373</td>\n",
              "      <td>0.822920</td>\n",
              "      <td>0.819810</td>\n",
              "      <td>0.824476</td>\n",
              "      <td>0.798036</td>\n",
              "      <td>0.803368</td>\n",
              "      <td>0.846472</td>\n",
              "    </tr>\n",
              "    <tr>\n",
              "      <th>2443</th>\n",
              "      <td>0.759376</td>\n",
              "      <td>0.708496</td>\n",
              "      <td>0.704941</td>\n",
              "      <td>0.775595</td>\n",
              "      <td>0.789815</td>\n",
              "      <td>0.813367</td>\n",
              "      <td>0.806257</td>\n",
              "      <td>0.817588</td>\n",
              "      <td>0.808478</td>\n",
              "      <td>0.838695</td>\n",
              "      <td>0.836029</td>\n",
              "      <td>0.871801</td>\n",
              "      <td>0.897352</td>\n",
              "      <td>0.864246</td>\n",
              "      <td>0.849360</td>\n",
              "      <td>0.839362</td>\n",
              "      <td>0.864246</td>\n",
              "      <td>0.839140</td>\n",
              "      <td>0.767153</td>\n",
              "      <td>0.752488</td>\n",
              "      <td>0.737824</td>\n",
              "      <td>0.735158</td>\n",
              "      <td>0.775373</td>\n",
              "      <td>0.822920</td>\n",
              "      <td>0.819810</td>\n",
              "      <td>0.824476</td>\n",
              "      <td>0.798036</td>\n",
              "      <td>0.803368</td>\n",
              "      <td>0.846472</td>\n",
              "      <td>0.822254</td>\n",
              "    </tr>\n",
              "    <tr>\n",
              "      <th>2444</th>\n",
              "      <td>0.708496</td>\n",
              "      <td>0.704941</td>\n",
              "      <td>0.775595</td>\n",
              "      <td>0.789815</td>\n",
              "      <td>0.813367</td>\n",
              "      <td>0.806257</td>\n",
              "      <td>0.817588</td>\n",
              "      <td>0.808478</td>\n",
              "      <td>0.838695</td>\n",
              "      <td>0.836029</td>\n",
              "      <td>0.871801</td>\n",
              "      <td>0.897352</td>\n",
              "      <td>0.864246</td>\n",
              "      <td>0.849360</td>\n",
              "      <td>0.839362</td>\n",
              "      <td>0.864246</td>\n",
              "      <td>0.839140</td>\n",
              "      <td>0.767153</td>\n",
              "      <td>0.752488</td>\n",
              "      <td>0.737824</td>\n",
              "      <td>0.735158</td>\n",
              "      <td>0.775373</td>\n",
              "      <td>0.822920</td>\n",
              "      <td>0.819810</td>\n",
              "      <td>0.824476</td>\n",
              "      <td>0.798036</td>\n",
              "      <td>0.803368</td>\n",
              "      <td>0.846472</td>\n",
              "      <td>0.822254</td>\n",
              "      <td>0.818032</td>\n",
              "    </tr>\n",
              "    <tr>\n",
              "      <th>2445</th>\n",
              "      <td>0.704941</td>\n",
              "      <td>0.775595</td>\n",
              "      <td>0.789815</td>\n",
              "      <td>0.813367</td>\n",
              "      <td>0.806257</td>\n",
              "      <td>0.817588</td>\n",
              "      <td>0.808478</td>\n",
              "      <td>0.838695</td>\n",
              "      <td>0.836029</td>\n",
              "      <td>0.871801</td>\n",
              "      <td>0.897352</td>\n",
              "      <td>0.864246</td>\n",
              "      <td>0.849360</td>\n",
              "      <td>0.839362</td>\n",
              "      <td>0.864246</td>\n",
              "      <td>0.839140</td>\n",
              "      <td>0.767153</td>\n",
              "      <td>0.752488</td>\n",
              "      <td>0.737824</td>\n",
              "      <td>0.735158</td>\n",
              "      <td>0.775373</td>\n",
              "      <td>0.822920</td>\n",
              "      <td>0.819810</td>\n",
              "      <td>0.824476</td>\n",
              "      <td>0.798036</td>\n",
              "      <td>0.803368</td>\n",
              "      <td>0.846472</td>\n",
              "      <td>0.822254</td>\n",
              "      <td>0.818032</td>\n",
              "      <td>0.810923</td>\n",
              "    </tr>\n",
              "    <tr>\n",
              "      <th>2446</th>\n",
              "      <td>0.775595</td>\n",
              "      <td>0.789815</td>\n",
              "      <td>0.813367</td>\n",
              "      <td>0.806257</td>\n",
              "      <td>0.817588</td>\n",
              "      <td>0.808478</td>\n",
              "      <td>0.838695</td>\n",
              "      <td>0.836029</td>\n",
              "      <td>0.871801</td>\n",
              "      <td>0.897352</td>\n",
              "      <td>0.864246</td>\n",
              "      <td>0.849360</td>\n",
              "      <td>0.839362</td>\n",
              "      <td>0.864246</td>\n",
              "      <td>0.839140</td>\n",
              "      <td>0.767153</td>\n",
              "      <td>0.752488</td>\n",
              "      <td>0.737824</td>\n",
              "      <td>0.735158</td>\n",
              "      <td>0.775373</td>\n",
              "      <td>0.822920</td>\n",
              "      <td>0.819810</td>\n",
              "      <td>0.824476</td>\n",
              "      <td>0.798036</td>\n",
              "      <td>0.803368</td>\n",
              "      <td>0.846472</td>\n",
              "      <td>0.822254</td>\n",
              "      <td>0.818032</td>\n",
              "      <td>0.810923</td>\n",
              "      <td>0.843806</td>\n",
              "    </tr>\n",
              "  </tbody>\n",
              "</table>\n",
              "<p>2447 rows × 30 columns</p>\n",
              "</div>"
            ],
            "text/plain": [
              "            0         1         2   ...        27        28        29\n",
              "0     0.363313  0.363713  0.369801  ...  0.194765  0.197298  0.187256\n",
              "1     0.363713  0.369801  0.364069  ...  0.197298  0.187256  0.198631\n",
              "2     0.369801  0.364069  0.361002  ...  0.187256  0.198631  0.214762\n",
              "3     0.364069  0.361002  0.352648  ...  0.198631  0.214762  0.208319\n",
              "4     0.361002  0.352648  0.324209  ...  0.214762  0.208319  0.191833\n",
              "...        ...       ...       ...  ...       ...       ...       ...\n",
              "2442  0.749378  0.759376  0.708496  ...  0.798036  0.803368  0.846472\n",
              "2443  0.759376  0.708496  0.704941  ...  0.803368  0.846472  0.822254\n",
              "2444  0.708496  0.704941  0.775595  ...  0.846472  0.822254  0.818032\n",
              "2445  0.704941  0.775595  0.789815  ...  0.822254  0.818032  0.810923\n",
              "2446  0.775595  0.789815  0.813367  ...  0.818032  0.810923  0.843806\n",
              "\n",
              "[2447 rows x 30 columns]"
            ]
          },
          "metadata": {
            "tags": []
          },
          "execution_count": 24
        }
      ]
    },
    {
      "cell_type": "code",
      "metadata": {
        "colab": {
          "base_uri": "https://localhost:8080/",
          "height": 419
        },
        "id": "0U_0YL_mzlRI",
        "outputId": "49e0c0f7-a4a9-48fd-c591-4b6355b5aea0"
      },
      "source": [
        "y_train"
      ],
      "execution_count": 25,
      "outputs": [
        {
          "output_type": "execute_result",
          "data": {
            "text/html": [
              "<div>\n",
              "<style scoped>\n",
              "    .dataframe tbody tr th:only-of-type {\n",
              "        vertical-align: middle;\n",
              "    }\n",
              "\n",
              "    .dataframe tbody tr th {\n",
              "        vertical-align: top;\n",
              "    }\n",
              "\n",
              "    .dataframe thead th {\n",
              "        text-align: right;\n",
              "    }\n",
              "</style>\n",
              "<table border=\"1\" class=\"dataframe\">\n",
              "  <thead>\n",
              "    <tr style=\"text-align: right;\">\n",
              "      <th></th>\n",
              "      <th>0</th>\n",
              "    </tr>\n",
              "  </thead>\n",
              "  <tbody>\n",
              "    <tr>\n",
              "      <th>0</th>\n",
              "      <td>0.198631</td>\n",
              "    </tr>\n",
              "    <tr>\n",
              "      <th>1</th>\n",
              "      <td>0.214762</td>\n",
              "    </tr>\n",
              "    <tr>\n",
              "      <th>2</th>\n",
              "      <td>0.208319</td>\n",
              "    </tr>\n",
              "    <tr>\n",
              "      <th>3</th>\n",
              "      <td>0.191833</td>\n",
              "    </tr>\n",
              "    <tr>\n",
              "      <th>4</th>\n",
              "      <td>0.196721</td>\n",
              "    </tr>\n",
              "    <tr>\n",
              "      <th>...</th>\n",
              "      <td>...</td>\n",
              "    </tr>\n",
              "    <tr>\n",
              "      <th>2442</th>\n",
              "      <td>0.822254</td>\n",
              "    </tr>\n",
              "    <tr>\n",
              "      <th>2443</th>\n",
              "      <td>0.818032</td>\n",
              "    </tr>\n",
              "    <tr>\n",
              "      <th>2444</th>\n",
              "      <td>0.810923</td>\n",
              "    </tr>\n",
              "    <tr>\n",
              "      <th>2445</th>\n",
              "      <td>0.843806</td>\n",
              "    </tr>\n",
              "    <tr>\n",
              "      <th>2446</th>\n",
              "      <td>0.831141</td>\n",
              "    </tr>\n",
              "  </tbody>\n",
              "</table>\n",
              "<p>2447 rows × 1 columns</p>\n",
              "</div>"
            ],
            "text/plain": [
              "             0\n",
              "0     0.198631\n",
              "1     0.214762\n",
              "2     0.208319\n",
              "3     0.191833\n",
              "4     0.196721\n",
              "...        ...\n",
              "2442  0.822254\n",
              "2443  0.818032\n",
              "2444  0.810923\n",
              "2445  0.843806\n",
              "2446  0.831141\n",
              "\n",
              "[2447 rows x 1 columns]"
            ]
          },
          "metadata": {
            "tags": []
          },
          "execution_count": 25
        }
      ]
    },
    {
      "cell_type": "code",
      "metadata": {
        "colab": {
          "base_uri": "https://localhost:8080/",
          "height": 439
        },
        "id": "zRVEuIDO0Jfi",
        "outputId": "5130232c-48bf-4e4d-a607-35c716ff38d3"
      },
      "source": [
        "x_test"
      ],
      "execution_count": 26,
      "outputs": [
        {
          "output_type": "execute_result",
          "data": {
            "text/html": [
              "<div>\n",
              "<style scoped>\n",
              "    .dataframe tbody tr th:only-of-type {\n",
              "        vertical-align: middle;\n",
              "    }\n",
              "\n",
              "    .dataframe tbody tr th {\n",
              "        vertical-align: top;\n",
              "    }\n",
              "\n",
              "    .dataframe thead th {\n",
              "        text-align: right;\n",
              "    }\n",
              "</style>\n",
              "<table border=\"1\" class=\"dataframe\">\n",
              "  <thead>\n",
              "    <tr style=\"text-align: right;\">\n",
              "      <th></th>\n",
              "      <th>0</th>\n",
              "      <th>1</th>\n",
              "      <th>2</th>\n",
              "      <th>3</th>\n",
              "      <th>4</th>\n",
              "      <th>5</th>\n",
              "      <th>6</th>\n",
              "      <th>7</th>\n",
              "      <th>8</th>\n",
              "      <th>9</th>\n",
              "      <th>10</th>\n",
              "      <th>11</th>\n",
              "      <th>12</th>\n",
              "      <th>13</th>\n",
              "      <th>14</th>\n",
              "      <th>15</th>\n",
              "      <th>16</th>\n",
              "      <th>17</th>\n",
              "      <th>18</th>\n",
              "      <th>19</th>\n",
              "      <th>20</th>\n",
              "      <th>21</th>\n",
              "      <th>22</th>\n",
              "      <th>23</th>\n",
              "      <th>24</th>\n",
              "      <th>25</th>\n",
              "      <th>26</th>\n",
              "      <th>27</th>\n",
              "      <th>28</th>\n",
              "      <th>29</th>\n",
              "    </tr>\n",
              "  </thead>\n",
              "  <tbody>\n",
              "    <tr>\n",
              "      <th>0</th>\n",
              "      <td>0.974264</td>\n",
              "      <td>1.000000</td>\n",
              "      <td>0.970284</td>\n",
              "      <td>0.892279</td>\n",
              "      <td>0.889095</td>\n",
              "      <td>0.896524</td>\n",
              "      <td>0.951711</td>\n",
              "      <td>0.962590</td>\n",
              "      <td>0.954630</td>\n",
              "      <td>0.940037</td>\n",
              "      <td>0.920138</td>\n",
              "      <td>0.915097</td>\n",
              "      <td>0.886973</td>\n",
              "      <td>0.865747</td>\n",
              "      <td>0.864155</td>\n",
              "      <td>0.877156</td>\n",
              "      <td>0.914566</td>\n",
              "      <td>0.919077</td>\n",
              "      <td>0.877421</td>\n",
              "      <td>0.871584</td>\n",
              "      <td>0.878748</td>\n",
              "      <td>0.848236</td>\n",
              "      <td>0.889361</td>\n",
              "      <td>0.805253</td>\n",
              "      <td>0.781374</td>\n",
              "      <td>0.824622</td>\n",
              "      <td>0.849828</td>\n",
              "      <td>0.907933</td>\n",
              "      <td>0.900504</td>\n",
              "      <td>0.889626</td>\n",
              "    </tr>\n",
              "    <tr>\n",
              "      <th>1</th>\n",
              "      <td>1.000000</td>\n",
              "      <td>0.970284</td>\n",
              "      <td>0.892279</td>\n",
              "      <td>0.889095</td>\n",
              "      <td>0.896524</td>\n",
              "      <td>0.951711</td>\n",
              "      <td>0.962590</td>\n",
              "      <td>0.954630</td>\n",
              "      <td>0.940037</td>\n",
              "      <td>0.920138</td>\n",
              "      <td>0.915097</td>\n",
              "      <td>0.886973</td>\n",
              "      <td>0.865747</td>\n",
              "      <td>0.864155</td>\n",
              "      <td>0.877156</td>\n",
              "      <td>0.914566</td>\n",
              "      <td>0.919077</td>\n",
              "      <td>0.877421</td>\n",
              "      <td>0.871584</td>\n",
              "      <td>0.878748</td>\n",
              "      <td>0.848236</td>\n",
              "      <td>0.889361</td>\n",
              "      <td>0.805253</td>\n",
              "      <td>0.781374</td>\n",
              "      <td>0.824622</td>\n",
              "      <td>0.849828</td>\n",
              "      <td>0.907933</td>\n",
              "      <td>0.900504</td>\n",
              "      <td>0.889626</td>\n",
              "      <td>0.920669</td>\n",
              "    </tr>\n",
              "    <tr>\n",
              "      <th>2</th>\n",
              "      <td>0.970284</td>\n",
              "      <td>0.892279</td>\n",
              "      <td>0.889095</td>\n",
              "      <td>0.896524</td>\n",
              "      <td>0.951711</td>\n",
              "      <td>0.962590</td>\n",
              "      <td>0.954630</td>\n",
              "      <td>0.940037</td>\n",
              "      <td>0.920138</td>\n",
              "      <td>0.915097</td>\n",
              "      <td>0.886973</td>\n",
              "      <td>0.865747</td>\n",
              "      <td>0.864155</td>\n",
              "      <td>0.877156</td>\n",
              "      <td>0.914566</td>\n",
              "      <td>0.919077</td>\n",
              "      <td>0.877421</td>\n",
              "      <td>0.871584</td>\n",
              "      <td>0.878748</td>\n",
              "      <td>0.848236</td>\n",
              "      <td>0.889361</td>\n",
              "      <td>0.805253</td>\n",
              "      <td>0.781374</td>\n",
              "      <td>0.824622</td>\n",
              "      <td>0.849828</td>\n",
              "      <td>0.907933</td>\n",
              "      <td>0.900504</td>\n",
              "      <td>0.889626</td>\n",
              "      <td>0.920669</td>\n",
              "      <td>0.898647</td>\n",
              "    </tr>\n",
              "    <tr>\n",
              "      <th>3</th>\n",
              "      <td>0.892279</td>\n",
              "      <td>0.889095</td>\n",
              "      <td>0.896524</td>\n",
              "      <td>0.951711</td>\n",
              "      <td>0.962590</td>\n",
              "      <td>0.954630</td>\n",
              "      <td>0.940037</td>\n",
              "      <td>0.920138</td>\n",
              "      <td>0.915097</td>\n",
              "      <td>0.886973</td>\n",
              "      <td>0.865747</td>\n",
              "      <td>0.864155</td>\n",
              "      <td>0.877156</td>\n",
              "      <td>0.914566</td>\n",
              "      <td>0.919077</td>\n",
              "      <td>0.877421</td>\n",
              "      <td>0.871584</td>\n",
              "      <td>0.878748</td>\n",
              "      <td>0.848236</td>\n",
              "      <td>0.889361</td>\n",
              "      <td>0.805253</td>\n",
              "      <td>0.781374</td>\n",
              "      <td>0.824622</td>\n",
              "      <td>0.849828</td>\n",
              "      <td>0.907933</td>\n",
              "      <td>0.900504</td>\n",
              "      <td>0.889626</td>\n",
              "      <td>0.920669</td>\n",
              "      <td>0.898647</td>\n",
              "      <td>0.937119</td>\n",
              "    </tr>\n",
              "    <tr>\n",
              "      <th>4</th>\n",
              "      <td>0.889095</td>\n",
              "      <td>0.896524</td>\n",
              "      <td>0.951711</td>\n",
              "      <td>0.962590</td>\n",
              "      <td>0.954630</td>\n",
              "      <td>0.940037</td>\n",
              "      <td>0.920138</td>\n",
              "      <td>0.915097</td>\n",
              "      <td>0.886973</td>\n",
              "      <td>0.865747</td>\n",
              "      <td>0.864155</td>\n",
              "      <td>0.877156</td>\n",
              "      <td>0.914566</td>\n",
              "      <td>0.919077</td>\n",
              "      <td>0.877421</td>\n",
              "      <td>0.871584</td>\n",
              "      <td>0.878748</td>\n",
              "      <td>0.848236</td>\n",
              "      <td>0.889361</td>\n",
              "      <td>0.805253</td>\n",
              "      <td>0.781374</td>\n",
              "      <td>0.824622</td>\n",
              "      <td>0.849828</td>\n",
              "      <td>0.907933</td>\n",
              "      <td>0.900504</td>\n",
              "      <td>0.889626</td>\n",
              "      <td>0.920669</td>\n",
              "      <td>0.898647</td>\n",
              "      <td>0.937119</td>\n",
              "      <td>0.894402</td>\n",
              "    </tr>\n",
              "    <tr>\n",
              "      <th>...</th>\n",
              "      <td>...</td>\n",
              "      <td>...</td>\n",
              "      <td>...</td>\n",
              "      <td>...</td>\n",
              "      <td>...</td>\n",
              "      <td>...</td>\n",
              "      <td>...</td>\n",
              "      <td>...</td>\n",
              "      <td>...</td>\n",
              "      <td>...</td>\n",
              "      <td>...</td>\n",
              "      <td>...</td>\n",
              "      <td>...</td>\n",
              "      <td>...</td>\n",
              "      <td>...</td>\n",
              "      <td>...</td>\n",
              "      <td>...</td>\n",
              "      <td>...</td>\n",
              "      <td>...</td>\n",
              "      <td>...</td>\n",
              "      <td>...</td>\n",
              "      <td>...</td>\n",
              "      <td>...</td>\n",
              "      <td>...</td>\n",
              "      <td>...</td>\n",
              "      <td>...</td>\n",
              "      <td>...</td>\n",
              "      <td>...</td>\n",
              "      <td>...</td>\n",
              "      <td>...</td>\n",
              "    </tr>\n",
              "    <tr>\n",
              "      <th>216</th>\n",
              "      <td>0.429026</td>\n",
              "      <td>0.442292</td>\n",
              "      <td>0.403025</td>\n",
              "      <td>0.417087</td>\n",
              "      <td>0.418148</td>\n",
              "      <td>0.474131</td>\n",
              "      <td>0.536747</td>\n",
              "      <td>0.471743</td>\n",
              "      <td>0.487663</td>\n",
              "      <td>0.466171</td>\n",
              "      <td>0.493500</td>\n",
              "      <td>0.488989</td>\n",
              "      <td>0.501990</td>\n",
              "      <td>0.495622</td>\n",
              "      <td>0.515787</td>\n",
              "      <td>0.509950</td>\n",
              "      <td>0.559565</td>\n",
              "      <td>0.597771</td>\n",
              "      <td>0.630141</td>\n",
              "      <td>0.642345</td>\n",
              "      <td>0.634120</td>\n",
              "      <td>0.629875</td>\n",
              "      <td>0.645264</td>\n",
              "      <td>0.654550</td>\n",
              "      <td>0.635712</td>\n",
              "      <td>0.629079</td>\n",
              "      <td>0.620058</td>\n",
              "      <td>0.639958</td>\n",
              "      <td>0.551075</td>\n",
              "      <td>0.565667</td>\n",
              "    </tr>\n",
              "    <tr>\n",
              "      <th>217</th>\n",
              "      <td>0.442292</td>\n",
              "      <td>0.403025</td>\n",
              "      <td>0.417087</td>\n",
              "      <td>0.418148</td>\n",
              "      <td>0.474131</td>\n",
              "      <td>0.536747</td>\n",
              "      <td>0.471743</td>\n",
              "      <td>0.487663</td>\n",
              "      <td>0.466171</td>\n",
              "      <td>0.493500</td>\n",
              "      <td>0.488989</td>\n",
              "      <td>0.501990</td>\n",
              "      <td>0.495622</td>\n",
              "      <td>0.515787</td>\n",
              "      <td>0.509950</td>\n",
              "      <td>0.559565</td>\n",
              "      <td>0.597771</td>\n",
              "      <td>0.630141</td>\n",
              "      <td>0.642345</td>\n",
              "      <td>0.634120</td>\n",
              "      <td>0.629875</td>\n",
              "      <td>0.645264</td>\n",
              "      <td>0.654550</td>\n",
              "      <td>0.635712</td>\n",
              "      <td>0.629079</td>\n",
              "      <td>0.620058</td>\n",
              "      <td>0.639958</td>\n",
              "      <td>0.551075</td>\n",
              "      <td>0.565667</td>\n",
              "      <td>0.595118</td>\n",
              "    </tr>\n",
              "    <tr>\n",
              "      <th>218</th>\n",
              "      <td>0.403025</td>\n",
              "      <td>0.417087</td>\n",
              "      <td>0.418148</td>\n",
              "      <td>0.474131</td>\n",
              "      <td>0.536747</td>\n",
              "      <td>0.471743</td>\n",
              "      <td>0.487663</td>\n",
              "      <td>0.466171</td>\n",
              "      <td>0.493500</td>\n",
              "      <td>0.488989</td>\n",
              "      <td>0.501990</td>\n",
              "      <td>0.495622</td>\n",
              "      <td>0.515787</td>\n",
              "      <td>0.509950</td>\n",
              "      <td>0.559565</td>\n",
              "      <td>0.597771</td>\n",
              "      <td>0.630141</td>\n",
              "      <td>0.642345</td>\n",
              "      <td>0.634120</td>\n",
              "      <td>0.629875</td>\n",
              "      <td>0.645264</td>\n",
              "      <td>0.654550</td>\n",
              "      <td>0.635712</td>\n",
              "      <td>0.629079</td>\n",
              "      <td>0.620058</td>\n",
              "      <td>0.639958</td>\n",
              "      <td>0.551075</td>\n",
              "      <td>0.565667</td>\n",
              "      <td>0.595118</td>\n",
              "      <td>0.615548</td>\n",
              "    </tr>\n",
              "    <tr>\n",
              "      <th>219</th>\n",
              "      <td>0.417087</td>\n",
              "      <td>0.418148</td>\n",
              "      <td>0.474131</td>\n",
              "      <td>0.536747</td>\n",
              "      <td>0.471743</td>\n",
              "      <td>0.487663</td>\n",
              "      <td>0.466171</td>\n",
              "      <td>0.493500</td>\n",
              "      <td>0.488989</td>\n",
              "      <td>0.501990</td>\n",
              "      <td>0.495622</td>\n",
              "      <td>0.515787</td>\n",
              "      <td>0.509950</td>\n",
              "      <td>0.559565</td>\n",
              "      <td>0.597771</td>\n",
              "      <td>0.630141</td>\n",
              "      <td>0.642345</td>\n",
              "      <td>0.634120</td>\n",
              "      <td>0.629875</td>\n",
              "      <td>0.645264</td>\n",
              "      <td>0.654550</td>\n",
              "      <td>0.635712</td>\n",
              "      <td>0.629079</td>\n",
              "      <td>0.620058</td>\n",
              "      <td>0.639958</td>\n",
              "      <td>0.551075</td>\n",
              "      <td>0.565667</td>\n",
              "      <td>0.595118</td>\n",
              "      <td>0.615548</td>\n",
              "      <td>0.659857</td>\n",
              "    </tr>\n",
              "    <tr>\n",
              "      <th>220</th>\n",
              "      <td>0.418148</td>\n",
              "      <td>0.474131</td>\n",
              "      <td>0.536747</td>\n",
              "      <td>0.471743</td>\n",
              "      <td>0.487663</td>\n",
              "      <td>0.466171</td>\n",
              "      <td>0.493500</td>\n",
              "      <td>0.488989</td>\n",
              "      <td>0.501990</td>\n",
              "      <td>0.495622</td>\n",
              "      <td>0.515787</td>\n",
              "      <td>0.509950</td>\n",
              "      <td>0.559565</td>\n",
              "      <td>0.597771</td>\n",
              "      <td>0.630141</td>\n",
              "      <td>0.642345</td>\n",
              "      <td>0.634120</td>\n",
              "      <td>0.629875</td>\n",
              "      <td>0.645264</td>\n",
              "      <td>0.654550</td>\n",
              "      <td>0.635712</td>\n",
              "      <td>0.629079</td>\n",
              "      <td>0.620058</td>\n",
              "      <td>0.639958</td>\n",
              "      <td>0.551075</td>\n",
              "      <td>0.565667</td>\n",
              "      <td>0.595118</td>\n",
              "      <td>0.615548</td>\n",
              "      <td>0.659857</td>\n",
              "      <td>0.674184</td>\n",
              "    </tr>\n",
              "  </tbody>\n",
              "</table>\n",
              "<p>221 rows × 30 columns</p>\n",
              "</div>"
            ],
            "text/plain": [
              "           0         1         2   ...        27        28        29\n",
              "0    0.974264  1.000000  0.970284  ...  0.907933  0.900504  0.889626\n",
              "1    1.000000  0.970284  0.892279  ...  0.900504  0.889626  0.920669\n",
              "2    0.970284  0.892279  0.889095  ...  0.889626  0.920669  0.898647\n",
              "3    0.892279  0.889095  0.896524  ...  0.920669  0.898647  0.937119\n",
              "4    0.889095  0.896524  0.951711  ...  0.898647  0.937119  0.894402\n",
              "..        ...       ...       ...  ...       ...       ...       ...\n",
              "216  0.429026  0.442292  0.403025  ...  0.639958  0.551075  0.565667\n",
              "217  0.442292  0.403025  0.417087  ...  0.551075  0.565667  0.595118\n",
              "218  0.403025  0.417087  0.418148  ...  0.565667  0.595118  0.615548\n",
              "219  0.417087  0.418148  0.474131  ...  0.595118  0.615548  0.659857\n",
              "220  0.418148  0.474131  0.536747  ...  0.615548  0.659857  0.674184\n",
              "\n",
              "[221 rows x 30 columns]"
            ]
          },
          "metadata": {
            "tags": []
          },
          "execution_count": 26
        }
      ]
    },
    {
      "cell_type": "code",
      "metadata": {
        "colab": {
          "base_uri": "https://localhost:8080/",
          "height": 419
        },
        "id": "8kVeZJUc0K7L",
        "outputId": "0c926288-b8fa-4ca0-876d-07f4043afa78"
      },
      "source": [
        "y_test"
      ],
      "execution_count": 27,
      "outputs": [
        {
          "output_type": "execute_result",
          "data": {
            "text/html": [
              "<div>\n",
              "<style scoped>\n",
              "    .dataframe tbody tr th:only-of-type {\n",
              "        vertical-align: middle;\n",
              "    }\n",
              "\n",
              "    .dataframe tbody tr th {\n",
              "        vertical-align: top;\n",
              "    }\n",
              "\n",
              "    .dataframe thead th {\n",
              "        text-align: right;\n",
              "    }\n",
              "</style>\n",
              "<table border=\"1\" class=\"dataframe\">\n",
              "  <thead>\n",
              "    <tr style=\"text-align: right;\">\n",
              "      <th></th>\n",
              "      <th>0</th>\n",
              "    </tr>\n",
              "  </thead>\n",
              "  <tbody>\n",
              "    <tr>\n",
              "      <th>0</th>\n",
              "      <td>0.920669</td>\n",
              "    </tr>\n",
              "    <tr>\n",
              "      <th>1</th>\n",
              "      <td>0.898647</td>\n",
              "    </tr>\n",
              "    <tr>\n",
              "      <th>2</th>\n",
              "      <td>0.937119</td>\n",
              "    </tr>\n",
              "    <tr>\n",
              "      <th>3</th>\n",
              "      <td>0.894402</td>\n",
              "    </tr>\n",
              "    <tr>\n",
              "      <th>4</th>\n",
              "      <td>0.866808</td>\n",
              "    </tr>\n",
              "    <tr>\n",
              "      <th>...</th>\n",
              "      <td>...</td>\n",
              "    </tr>\n",
              "    <tr>\n",
              "      <th>216</th>\n",
              "      <td>0.595118</td>\n",
              "    </tr>\n",
              "    <tr>\n",
              "      <th>217</th>\n",
              "      <td>0.615548</td>\n",
              "    </tr>\n",
              "    <tr>\n",
              "      <th>218</th>\n",
              "      <td>0.659857</td>\n",
              "    </tr>\n",
              "    <tr>\n",
              "      <th>219</th>\n",
              "      <td>0.674184</td>\n",
              "    </tr>\n",
              "    <tr>\n",
              "      <th>220</th>\n",
              "      <td>0.668878</td>\n",
              "    </tr>\n",
              "  </tbody>\n",
              "</table>\n",
              "<p>221 rows × 1 columns</p>\n",
              "</div>"
            ],
            "text/plain": [
              "            0\n",
              "0    0.920669\n",
              "1    0.898647\n",
              "2    0.937119\n",
              "3    0.894402\n",
              "4    0.866808\n",
              "..        ...\n",
              "216  0.595118\n",
              "217  0.615548\n",
              "218  0.659857\n",
              "219  0.674184\n",
              "220  0.668878\n",
              "\n",
              "[221 rows x 1 columns]"
            ]
          },
          "metadata": {
            "tags": []
          },
          "execution_count": 27
        }
      ]
    },
    {
      "cell_type": "markdown",
      "metadata": {
        "id": "Dfd6CHnpaPrN"
      },
      "source": [
        "Builiding LSTM Model"
      ]
    },
    {
      "cell_type": "code",
      "metadata": {
        "id": "xHGjAhtk2smg"
      },
      "source": [
        "# reshape input to be [samples, time steps, features] which is required for LSTM\n",
        "x_train =x_train.to_numpy().reshape(x_train.shape[0],x_train.shape[1] , 1)\n",
        "x_test = x_test.to_numpy().reshape(x_test.shape[0],x_test.shape[1] , 1)"
      ],
      "execution_count": 28,
      "outputs": []
    },
    {
      "cell_type": "code",
      "metadata": {
        "id": "mapWwEzp0RsF"
      },
      "source": [
        "model=Sequential()\n",
        "model.add(LSTM(15,return_sequences=True,input_shape=(30,1)))\n",
        "model.add(LSTM(15,return_sequences=True))\n",
        "model.add(LSTM(15))\n",
        "model.add(Dense(1))\n",
        "model.compile(loss='mean_squared_error',optimizer='adam')"
      ],
      "execution_count": 29,
      "outputs": []
    },
    {
      "cell_type": "code",
      "metadata": {
        "colab": {
          "base_uri": "https://localhost:8080/"
        },
        "id": "0P9BBpRS0Uo2",
        "outputId": "66bf1403-62b7-4f22-ccd0-3206a2a5b6a1"
      },
      "source": [
        "model.summary()"
      ],
      "execution_count": 30,
      "outputs": [
        {
          "output_type": "stream",
          "text": [
            "Model: \"sequential\"\n",
            "_________________________________________________________________\n",
            "Layer (type)                 Output Shape              Param #   \n",
            "=================================================================\n",
            "lstm (LSTM)                  (None, 30, 15)            1020      \n",
            "_________________________________________________________________\n",
            "lstm_1 (LSTM)                (None, 30, 15)            1860      \n",
            "_________________________________________________________________\n",
            "lstm_2 (LSTM)                (None, 15)                1860      \n",
            "_________________________________________________________________\n",
            "dense (Dense)                (None, 1)                 16        \n",
            "=================================================================\n",
            "Total params: 4,756\n",
            "Trainable params: 4,756\n",
            "Non-trainable params: 0\n",
            "_________________________________________________________________\n"
          ],
          "name": "stdout"
        }
      ]
    },
    {
      "cell_type": "code",
      "metadata": {
        "colab": {
          "base_uri": "https://localhost:8080/"
        },
        "id": "7FWQRevL0YU5",
        "outputId": "606554a1-3c1a-423b-f116-34813978450d"
      },
      "source": [
        "model.fit(x_train, y_train, epochs=100, batch_size=64, verbose=1)"
      ],
      "execution_count": 31,
      "outputs": [
        {
          "output_type": "stream",
          "text": [
            "Epoch 1/100\n",
            "39/39 [==============================] - 6s 8ms/step - loss: 0.0895\n",
            "Epoch 2/100\n",
            "39/39 [==============================] - 0s 7ms/step - loss: 0.0080\n",
            "Epoch 3/100\n",
            "39/39 [==============================] - 0s 7ms/step - loss: 0.0048\n",
            "Epoch 4/100\n",
            "39/39 [==============================] - 0s 7ms/step - loss: 0.0044\n",
            "Epoch 5/100\n",
            "39/39 [==============================] - 0s 7ms/step - loss: 0.0041\n",
            "Epoch 6/100\n",
            "39/39 [==============================] - 0s 8ms/step - loss: 0.0037\n",
            "Epoch 7/100\n",
            "39/39 [==============================] - 0s 7ms/step - loss: 0.0033\n",
            "Epoch 8/100\n",
            "39/39 [==============================] - 0s 7ms/step - loss: 0.0030\n",
            "Epoch 9/100\n",
            "39/39 [==============================] - 0s 7ms/step - loss: 0.0030\n",
            "Epoch 10/100\n",
            "39/39 [==============================] - 0s 7ms/step - loss: 0.0027\n",
            "Epoch 11/100\n",
            "39/39 [==============================] - 0s 7ms/step - loss: 0.0025\n",
            "Epoch 12/100\n",
            "39/39 [==============================] - 0s 7ms/step - loss: 0.0023\n",
            "Epoch 13/100\n",
            "39/39 [==============================] - 0s 7ms/step - loss: 0.0022\n",
            "Epoch 14/100\n",
            "39/39 [==============================] - 0s 8ms/step - loss: 0.0024\n",
            "Epoch 15/100\n",
            "39/39 [==============================] - 0s 8ms/step - loss: 0.0022\n",
            "Epoch 16/100\n",
            "39/39 [==============================] - 0s 7ms/step - loss: 0.0021\n",
            "Epoch 17/100\n",
            "39/39 [==============================] - 0s 7ms/step - loss: 0.0021\n",
            "Epoch 18/100\n",
            "39/39 [==============================] - 0s 7ms/step - loss: 0.0018\n",
            "Epoch 19/100\n",
            "39/39 [==============================] - 0s 7ms/step - loss: 0.0019\n",
            "Epoch 20/100\n",
            "39/39 [==============================] - 0s 7ms/step - loss: 0.0018\n",
            "Epoch 21/100\n",
            "39/39 [==============================] - 0s 7ms/step - loss: 0.0017\n",
            "Epoch 22/100\n",
            "39/39 [==============================] - 0s 7ms/step - loss: 0.0017\n",
            "Epoch 23/100\n",
            "39/39 [==============================] - 0s 7ms/step - loss: 0.0018\n",
            "Epoch 24/100\n",
            "39/39 [==============================] - 0s 7ms/step - loss: 0.0018\n",
            "Epoch 25/100\n",
            "39/39 [==============================] - 0s 7ms/step - loss: 0.0016\n",
            "Epoch 26/100\n",
            "39/39 [==============================] - 0s 7ms/step - loss: 0.0016\n",
            "Epoch 27/100\n",
            "39/39 [==============================] - 0s 8ms/step - loss: 0.0015\n",
            "Epoch 28/100\n",
            "39/39 [==============================] - 0s 7ms/step - loss: 0.0015\n",
            "Epoch 29/100\n",
            "39/39 [==============================] - 0s 7ms/step - loss: 0.0015\n",
            "Epoch 30/100\n",
            "39/39 [==============================] - 0s 7ms/step - loss: 0.0014\n",
            "Epoch 31/100\n",
            "39/39 [==============================] - 0s 7ms/step - loss: 0.0016\n",
            "Epoch 32/100\n",
            "39/39 [==============================] - 0s 7ms/step - loss: 0.0013\n",
            "Epoch 33/100\n",
            "39/39 [==============================] - 0s 7ms/step - loss: 0.0014\n",
            "Epoch 34/100\n",
            "39/39 [==============================] - 0s 7ms/step - loss: 0.0013\n",
            "Epoch 35/100\n",
            "39/39 [==============================] - 0s 7ms/step - loss: 0.0013\n",
            "Epoch 36/100\n",
            "39/39 [==============================] - 0s 7ms/step - loss: 0.0013\n",
            "Epoch 37/100\n",
            "39/39 [==============================] - 0s 7ms/step - loss: 0.0012\n",
            "Epoch 38/100\n",
            "39/39 [==============================] - 0s 8ms/step - loss: 0.0013\n",
            "Epoch 39/100\n",
            "39/39 [==============================] - 0s 7ms/step - loss: 0.0011\n",
            "Epoch 40/100\n",
            "39/39 [==============================] - 0s 7ms/step - loss: 0.0011\n",
            "Epoch 41/100\n",
            "39/39 [==============================] - 0s 7ms/step - loss: 0.0011\n",
            "Epoch 42/100\n",
            "39/39 [==============================] - 0s 7ms/step - loss: 0.0011\n",
            "Epoch 43/100\n",
            "39/39 [==============================] - 0s 7ms/step - loss: 0.0011\n",
            "Epoch 44/100\n",
            "39/39 [==============================] - 0s 8ms/step - loss: 0.0010\n",
            "Epoch 45/100\n",
            "39/39 [==============================] - 0s 7ms/step - loss: 0.0011\n",
            "Epoch 46/100\n",
            "39/39 [==============================] - 0s 7ms/step - loss: 8.3701e-04\n",
            "Epoch 47/100\n",
            "39/39 [==============================] - 0s 8ms/step - loss: 0.0010\n",
            "Epoch 48/100\n",
            "39/39 [==============================] - 0s 7ms/step - loss: 8.6621e-04\n",
            "Epoch 49/100\n",
            "39/39 [==============================] - 0s 7ms/step - loss: 9.9565e-04\n",
            "Epoch 50/100\n",
            "39/39 [==============================] - 0s 7ms/step - loss: 8.7090e-04\n",
            "Epoch 51/100\n",
            "39/39 [==============================] - 0s 8ms/step - loss: 8.8528e-04\n",
            "Epoch 52/100\n",
            "39/39 [==============================] - 0s 8ms/step - loss: 7.8676e-04\n",
            "Epoch 53/100\n",
            "39/39 [==============================] - 0s 7ms/step - loss: 8.0274e-04\n",
            "Epoch 54/100\n",
            "39/39 [==============================] - 0s 7ms/step - loss: 8.4423e-04\n",
            "Epoch 55/100\n",
            "39/39 [==============================] - 0s 7ms/step - loss: 9.9792e-04\n",
            "Epoch 56/100\n",
            "39/39 [==============================] - 0s 7ms/step - loss: 7.6349e-04\n",
            "Epoch 57/100\n",
            "39/39 [==============================] - 0s 7ms/step - loss: 6.8914e-04\n",
            "Epoch 58/100\n",
            "39/39 [==============================] - 0s 7ms/step - loss: 8.1422e-04\n",
            "Epoch 59/100\n",
            "39/39 [==============================] - 0s 8ms/step - loss: 6.3591e-04\n",
            "Epoch 60/100\n",
            "39/39 [==============================] - 0s 7ms/step - loss: 0.0010\n",
            "Epoch 61/100\n",
            "39/39 [==============================] - 0s 7ms/step - loss: 7.6566e-04\n",
            "Epoch 62/100\n",
            "39/39 [==============================] - 0s 7ms/step - loss: 6.4680e-04\n",
            "Epoch 63/100\n",
            "39/39 [==============================] - 0s 7ms/step - loss: 6.9988e-04\n",
            "Epoch 64/100\n",
            "39/39 [==============================] - 0s 7ms/step - loss: 6.7579e-04\n",
            "Epoch 65/100\n",
            "39/39 [==============================] - 0s 8ms/step - loss: 6.8401e-04\n",
            "Epoch 66/100\n",
            "39/39 [==============================] - 0s 7ms/step - loss: 6.4585e-04\n",
            "Epoch 67/100\n",
            "39/39 [==============================] - 0s 8ms/step - loss: 6.6643e-04\n",
            "Epoch 68/100\n",
            "39/39 [==============================] - 0s 7ms/step - loss: 7.5995e-04\n",
            "Epoch 69/100\n",
            "39/39 [==============================] - 0s 7ms/step - loss: 6.2003e-04\n",
            "Epoch 70/100\n",
            "39/39 [==============================] - 0s 7ms/step - loss: 6.2236e-04\n",
            "Epoch 71/100\n",
            "39/39 [==============================] - 0s 7ms/step - loss: 6.0344e-04\n",
            "Epoch 72/100\n",
            "39/39 [==============================] - 0s 7ms/step - loss: 5.9217e-04\n",
            "Epoch 73/100\n",
            "39/39 [==============================] - 0s 7ms/step - loss: 6.0470e-04\n",
            "Epoch 74/100\n",
            "39/39 [==============================] - 0s 7ms/step - loss: 6.2543e-04\n",
            "Epoch 75/100\n",
            "39/39 [==============================] - 0s 8ms/step - loss: 5.5671e-04\n",
            "Epoch 76/100\n",
            "39/39 [==============================] - 0s 8ms/step - loss: 6.8023e-04\n",
            "Epoch 77/100\n",
            "39/39 [==============================] - 0s 7ms/step - loss: 7.3555e-04\n",
            "Epoch 78/100\n",
            "39/39 [==============================] - 0s 7ms/step - loss: 5.7994e-04\n",
            "Epoch 79/100\n",
            "39/39 [==============================] - 0s 8ms/step - loss: 5.5110e-04\n",
            "Epoch 80/100\n",
            "39/39 [==============================] - 0s 7ms/step - loss: 6.5716e-04\n",
            "Epoch 81/100\n",
            "39/39 [==============================] - 0s 7ms/step - loss: 6.1610e-04\n",
            "Epoch 82/100\n",
            "39/39 [==============================] - 0s 7ms/step - loss: 6.4060e-04\n",
            "Epoch 83/100\n",
            "39/39 [==============================] - 0s 7ms/step - loss: 7.0565e-04\n",
            "Epoch 84/100\n",
            "39/39 [==============================] - 0s 7ms/step - loss: 5.8727e-04\n",
            "Epoch 85/100\n",
            "39/39 [==============================] - 0s 7ms/step - loss: 6.4036e-04\n",
            "Epoch 86/100\n",
            "39/39 [==============================] - 0s 8ms/step - loss: 6.0436e-04\n",
            "Epoch 87/100\n",
            "39/39 [==============================] - 0s 7ms/step - loss: 5.9766e-04\n",
            "Epoch 88/100\n",
            "39/39 [==============================] - 0s 7ms/step - loss: 6.7353e-04\n",
            "Epoch 89/100\n",
            "39/39 [==============================] - 0s 8ms/step - loss: 6.6939e-04\n",
            "Epoch 90/100\n",
            "39/39 [==============================] - 0s 7ms/step - loss: 5.4711e-04\n",
            "Epoch 91/100\n",
            "39/39 [==============================] - 0s 7ms/step - loss: 5.3312e-04\n",
            "Epoch 92/100\n",
            "39/39 [==============================] - 0s 8ms/step - loss: 6.6562e-04\n",
            "Epoch 93/100\n",
            "39/39 [==============================] - 0s 7ms/step - loss: 5.6605e-04\n",
            "Epoch 94/100\n",
            "39/39 [==============================] - 0s 7ms/step - loss: 5.3754e-04\n",
            "Epoch 95/100\n",
            "39/39 [==============================] - 0s 7ms/step - loss: 5.5863e-04\n",
            "Epoch 96/100\n",
            "39/39 [==============================] - 0s 8ms/step - loss: 5.5745e-04\n",
            "Epoch 97/100\n",
            "39/39 [==============================] - 0s 7ms/step - loss: 6.4099e-04\n",
            "Epoch 98/100\n",
            "39/39 [==============================] - 0s 7ms/step - loss: 6.2673e-04\n",
            "Epoch 99/100\n",
            "39/39 [==============================] - 0s 7ms/step - loss: 6.0964e-04\n",
            "Epoch 100/100\n",
            "39/39 [==============================] - 0s 8ms/step - loss: 5.9742e-04\n"
          ],
          "name": "stdout"
        },
        {
          "output_type": "execute_result",
          "data": {
            "text/plain": [
              "<tensorflow.python.keras.callbacks.History at 0x7f1660b5abd0>"
            ]
          },
          "metadata": {
            "tags": []
          },
          "execution_count": 31
        }
      ]
    },
    {
      "cell_type": "markdown",
      "metadata": {
        "id": "n2A49f1JaUGt"
      },
      "source": [
        "Prediction"
      ]
    },
    {
      "cell_type": "code",
      "metadata": {
        "id": "IQKMYg8C31Bu"
      },
      "source": [
        "test_predict=model.predict(x_test)"
      ],
      "execution_count": 32,
      "outputs": []
    },
    {
      "cell_type": "code",
      "metadata": {
        "colab": {
          "base_uri": "https://localhost:8080/"
        },
        "id": "J8PFDAT_LebE",
        "outputId": "e90ec525-350a-46c4-aa2f-b539f80ba0b0"
      },
      "source": [
        "### Calculate RMSE performance metrics\n",
        "math.sqrt(mean_squared_error(y_test,test_predict))"
      ],
      "execution_count": 33,
      "outputs": [
        {
          "output_type": "execute_result",
          "data": {
            "text/plain": [
              "0.03622563300398249"
            ]
          },
          "metadata": {
            "tags": []
          },
          "execution_count": 33
        }
      ]
    },
    {
      "cell_type": "code",
      "metadata": {
        "colab": {
          "base_uri": "https://localhost:8080/",
          "height": 391
        },
        "id": "cuFRp1nwCalK",
        "outputId": "d399120e-6b73-4270-ecd2-35d9e67539ac"
      },
      "source": [
        "plt.figure(figsize=(10, 6))\n",
        "plt.plot(test_predict, label='Predicted Value')\n",
        "plt.plot(y_test, label='Actual Value')\n",
        "plt.legend()"
      ],
      "execution_count": 34,
      "outputs": [
        {
          "output_type": "execute_result",
          "data": {
            "text/plain": [
              "<matplotlib.legend.Legend at 0x7f16607bff90>"
            ]
          },
          "metadata": {
            "tags": []
          },
          "execution_count": 34
        },
        {
          "output_type": "display_data",
          "data": {
            "image/png": "[encoded data removed]",
            "text/plain": [
              "<Figure size 720x432 with 1 Axes>"
            ]
          },
          "metadata": {
            "tags": [],
            "needs_background": "light"
          }
        }
      ]
    },
    {
      "cell_type": "code",
      "metadata": {
        "id": "YAcZKLRG3_mG"
      },
      "source": [
        "#perform inverse transform to bring data back to its original scale\n",
        "predict=scaler_test.inverse_transform(test_predict)\n",
        "actual=scaler_test.inverse_transform(y_test)"
      ],
      "execution_count": 35,
      "outputs": []
    },
    {
      "cell_type": "code",
      "metadata": {
        "colab": {
          "base_uri": "https://localhost:8080/"
        },
        "id": "ga_Meq9x4MN-",
        "outputId": "343b11c5-f6f7-41eb-e131-5c956fb5df62"
      },
      "source": [
        "### Calculate RMSE performance metrics for actual range values\n",
        "math.sqrt(mean_squared_error(actual, predict))"
      ],
      "execution_count": 36,
      "outputs": [
        {
          "output_type": "execute_result",
          "data": {
            "text/plain": [
              "6.826720270200339"
            ]
          },
          "metadata": {
            "tags": []
          },
          "execution_count": 36
        }
      ]
    },
    {
      "cell_type": "code",
      "metadata": {
        "colab": {
          "base_uri": "https://localhost:8080/",
          "height": 407
        },
        "id": "3nVqjA0xInaN",
        "outputId": "d3556223-8663-4ec6-8c21-bb1a02da5760"
      },
      "source": [
        "plt.figure(figsize=(10, 6))\n",
        "plt.plot(predict, label='Predicted value')\n",
        "plt.plot(actual, label='Actual value')\n",
        "plt.legend()\n",
        "plt.title('Line plot between predicted and actual value')"
      ],
      "execution_count": 37,
      "outputs": [
        {
          "output_type": "execute_result",
          "data": {
            "text/plain": [
              "Text(0.5, 1.0, 'Line plot between predicted and actual value')"
            ]
          },
          "metadata": {
            "tags": []
          },
          "execution_count": 37
        },
        {
          "output_type": "display_data",
          "data": {
            "image/png": "[encoded data removed]",
            "text/plain": [
              "<Figure size 720x432 with 1 Axes>"
            ]
          },
          "metadata": {
            "tags": [],
            "needs_background": "light"
          }
        }
      ]
    },
    {
      "cell_type": "code",
      "metadata": {
        "id": "9dF91KqUwXEc"
      },
      "source": [
        ""
      ],
      "execution_count": 37,
      "outputs": []
    }
  ]
}